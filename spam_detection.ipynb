{
 "cells": [
  {
   "cell_type": "code",
   "execution_count": 162,
   "id": "27dd5ab6-d504-4533-86ce-ed0a2a25146c",
   "metadata": {},
   "outputs": [],
   "source": [
    "import pandas as pd\n",
    "from sklearn.linear_model import LogisticRegression\n",
    "import numpy as np\n",
    "from sklearn.model_selection import train_test_split\n",
    "from sklearn.preprocessing import StandardScaler,LabelEncoder\n",
    "from sklearn.metrics import accuracy_score,f1_score,precision_score, recall_score,confusion_matrix\n",
    "from gensim.models import Word2Vec\n",
    "from gensim.utils import simple_preprocess\n",
    "df  = pd.read_csv('spam.csv',encoding = \"ISO-8859-1\")\n",
    "df.columns=['class','sms','2','3','4']\n",
    "df.drop(columns=['2','3','4'],inplace=True)\n",
    "df\n",
    "corpus = []\n",
    "train_corpus=[]\n",
    "test_corpus=[]"
   ]
  },
  {
   "cell_type": "code",
   "execution_count": 163,
   "id": "648895ba-b599-4afa-b944-8ad85b608965",
   "metadata": {},
   "outputs": [],
   "source": [
    "labelenc = LabelEncoder()\n",
    "\n",
    "geo_enc = labelenc.fit_transform(df['class'].unique())\n",
    "geo_dict = {i:j for i,j in zip(df['class'].unique(),geo_enc)}\n",
    "df['class'] = df['class'].map(geo_dict)\n",
    "\n"
   ]
  },
  {
   "cell_type": "code",
   "execution_count": 164,
   "id": "8c7f45ec-687e-4e45-afe5-85296ae029e9",
   "metadata": {},
   "outputs": [],
   "source": [
    "for i in df['sms']:\n",
    "    corpus.append(i)\n",
    "corpus = np.array(corpus)\n",
    "df,dtest = train_test_split(df)\n",
    "for i in df['sms']:\n",
    "    train_corpus.append(i)\n",
    "train_corpus = np.array(train_corpus)\n",
    "\n",
    "for i in dtest['sms']:\n",
    "    test_corpus.append(i)\n",
    "test_corpus = np.array(test_corpus)\n"
   ]
  },
  {
   "cell_type": "code",
   "execution_count": 165,
   "id": "db0120e3-a687-410d-963f-8f059513692e",
   "metadata": {},
   "outputs": [],
   "source": [
    "words=[]\n",
    "train_words=[]\n",
    "test_words = []\n",
    "for i in corpus:\n",
    "  words.append(simple_preprocess(i))\n",
    "for i in train_corpus:\n",
    "  train_words.append(simple_preprocess(i))\n",
    "for i in test_corpus:\n",
    "  test_words.append(simple_preprocess(i))"
   ]
  },
  {
   "cell_type": "code",
   "execution_count": null,
   "id": "0be16deb-b5b0-4b67-8f0c-ea141e94a819",
   "metadata": {},
   "outputs": [],
   "source": [
    "words"
   ]
  },
  {
   "cell_type": "code",
   "execution_count": 166,
   "id": "5c3822cb-6726-4024-9ce6-f1dbea409fc4",
   "metadata": {},
   "outputs": [
    {
     "data": {
      "text/plain": [
       "(644675, 782790)"
      ]
     },
     "execution_count": 166,
     "metadata": {},
     "output_type": "execute_result"
    }
   ],
   "source": [
    "model = Word2Vec(words,window=10,min_count=1)\n",
    "model.train(words, total_examples=len(words), epochs=10)\n"
   ]
  },
  {
   "cell_type": "code",
   "execution_count": 167,
   "id": "5834255b-6b8d-4243-9eca-80e5ed458f28",
   "metadata": {},
   "outputs": [],
   "source": [
    "dict  = {i:j for i,j in zip(model.wv.index_to_key,model.wv.get_normed_vectors())}\n"
   ]
  },
  {
   "cell_type": "code",
   "execution_count": 168,
   "id": "46275ff0-7f41-4cce-b83a-6811f8a44114",
   "metadata": {},
   "outputs": [],
   "source": [
    "def calcavg(X):\n",
    "    avg = np.zeros(len(dict['go']))\n",
    "    count = 0\n",
    "    for i in X:\n",
    "        avg+=dict[i]\n",
    "        count+=1\n",
    "    if count!=0:\n",
    "        avg/=count\n",
    "    return avg"
   ]
  },
  {
   "cell_type": "code",
   "execution_count": 171,
   "id": "83614030-97b0-4815-b48b-56653a1a80a1",
   "metadata": {},
   "outputs": [],
   "source": [
    "avgs = []\n",
    "for i in train_words:\n",
    "    avgs.append(calcavg(i))\n",
    "test_avgs = []\n",
    "for i in test_words:\n",
    "    test_avgs.append(calcavg(i))"
   ]
  },
  {
   "cell_type": "code",
   "execution_count": null,
   "id": "99429e19-86b0-4fa6-8c19-9e753211dedd",
   "metadata": {},
   "outputs": [],
   "source": [
    "avgs"
   ]
  },
  {
   "cell_type": "code",
   "execution_count": 172,
   "id": "e6504bd5-1a43-4cf4-8459-05e5f27180e1",
   "metadata": {},
   "outputs": [
    {
     "data": {
      "text/html": [
       "<style>#sk-container-id-4 {color: black;}#sk-container-id-4 pre{padding: 0;}#sk-container-id-4 div.sk-toggleable {background-color: white;}#sk-container-id-4 label.sk-toggleable__label {cursor: pointer;display: block;width: 100%;margin-bottom: 0;padding: 0.3em;box-sizing: border-box;text-align: center;}#sk-container-id-4 label.sk-toggleable__label-arrow:before {content: \"▸\";float: left;margin-right: 0.25em;color: #696969;}#sk-container-id-4 label.sk-toggleable__label-arrow:hover:before {color: black;}#sk-container-id-4 div.sk-estimator:hover label.sk-toggleable__label-arrow:before {color: black;}#sk-container-id-4 div.sk-toggleable__content {max-height: 0;max-width: 0;overflow: hidden;text-align: left;background-color: #f0f8ff;}#sk-container-id-4 div.sk-toggleable__content pre {margin: 0.2em;color: black;border-radius: 0.25em;background-color: #f0f8ff;}#sk-container-id-4 input.sk-toggleable__control:checked~div.sk-toggleable__content {max-height: 200px;max-width: 100%;overflow: auto;}#sk-container-id-4 input.sk-toggleable__control:checked~label.sk-toggleable__label-arrow:before {content: \"▾\";}#sk-container-id-4 div.sk-estimator input.sk-toggleable__control:checked~label.sk-toggleable__label {background-color: #d4ebff;}#sk-container-id-4 div.sk-label input.sk-toggleable__control:checked~label.sk-toggleable__label {background-color: #d4ebff;}#sk-container-id-4 input.sk-hidden--visually {border: 0;clip: rect(1px 1px 1px 1px);clip: rect(1px, 1px, 1px, 1px);height: 1px;margin: -1px;overflow: hidden;padding: 0;position: absolute;width: 1px;}#sk-container-id-4 div.sk-estimator {font-family: monospace;background-color: #f0f8ff;border: 1px dotted black;border-radius: 0.25em;box-sizing: border-box;margin-bottom: 0.5em;}#sk-container-id-4 div.sk-estimator:hover {background-color: #d4ebff;}#sk-container-id-4 div.sk-parallel-item::after {content: \"\";width: 100%;border-bottom: 1px solid gray;flex-grow: 1;}#sk-container-id-4 div.sk-label:hover label.sk-toggleable__label {background-color: #d4ebff;}#sk-container-id-4 div.sk-serial::before {content: \"\";position: absolute;border-left: 1px solid gray;box-sizing: border-box;top: 0;bottom: 0;left: 50%;z-index: 0;}#sk-container-id-4 div.sk-serial {display: flex;flex-direction: column;align-items: center;background-color: white;padding-right: 0.2em;padding-left: 0.2em;position: relative;}#sk-container-id-4 div.sk-item {position: relative;z-index: 1;}#sk-container-id-4 div.sk-parallel {display: flex;align-items: stretch;justify-content: center;background-color: white;position: relative;}#sk-container-id-4 div.sk-item::before, #sk-container-id-4 div.sk-parallel-item::before {content: \"\";position: absolute;border-left: 1px solid gray;box-sizing: border-box;top: 0;bottom: 0;left: 50%;z-index: -1;}#sk-container-id-4 div.sk-parallel-item {display: flex;flex-direction: column;z-index: 1;position: relative;background-color: white;}#sk-container-id-4 div.sk-parallel-item:first-child::after {align-self: flex-end;width: 50%;}#sk-container-id-4 div.sk-parallel-item:last-child::after {align-self: flex-start;width: 50%;}#sk-container-id-4 div.sk-parallel-item:only-child::after {width: 0;}#sk-container-id-4 div.sk-dashed-wrapped {border: 1px dashed gray;margin: 0 0.4em 0.5em 0.4em;box-sizing: border-box;padding-bottom: 0.4em;background-color: white;}#sk-container-id-4 div.sk-label label {font-family: monospace;font-weight: bold;display: inline-block;line-height: 1.2em;}#sk-container-id-4 div.sk-label-container {text-align: center;}#sk-container-id-4 div.sk-container {/* jupyter's `normalize.less` sets `[hidden] { display: none; }` but bootstrap.min.css set `[hidden] { display: none !important; }` so we also need the `!important` here to be able to override the default hidden behavior on the sphinx rendered scikit-learn.org. See: https://github.com/scikit-learn/scikit-learn/issues/21755 */display: inline-block !important;position: relative;}#sk-container-id-4 div.sk-text-repr-fallback {display: none;}</style><div id=\"sk-container-id-4\" class=\"sk-top-container\"><div class=\"sk-text-repr-fallback\"><pre>LogisticRegression()</pre><b>In a Jupyter environment, please rerun this cell to show the HTML representation or trust the notebook. <br />On GitHub, the HTML representation is unable to render, please try loading this page with nbviewer.org.</b></div><div class=\"sk-container\" hidden><div class=\"sk-item\"><div class=\"sk-estimator sk-toggleable\"><input class=\"sk-toggleable__control sk-hidden--visually\" id=\"sk-estimator-id-4\" type=\"checkbox\" checked><label for=\"sk-estimator-id-4\" class=\"sk-toggleable__label sk-toggleable__label-arrow\">LogisticRegression</label><div class=\"sk-toggleable__content\"><pre>LogisticRegression()</pre></div></div></div></div></div>"
      ],
      "text/plain": [
       "LogisticRegression()"
      ]
     },
     "execution_count": 172,
     "metadata": {},
     "output_type": "execute_result"
    }
   ],
   "source": [
    "predictor = LogisticRegression()\n",
    "predictor.fit(avgs,df['class'])"
   ]
  },
  {
   "cell_type": "code",
   "execution_count": 173,
   "id": "60ee2ff1-7f79-442b-a7df-8265e69cfac5",
   "metadata": {},
   "outputs": [
    {
     "data": {
      "text/plain": [
       "0.9676956209619526"
      ]
     },
     "execution_count": 173,
     "metadata": {},
     "output_type": "execute_result"
    }
   ],
   "source": [
    "pred  = predictor.predict(test_avgs)\n",
    "accuracy_score(dtest['class'],pred)"
   ]
  },
  {
   "cell_type": "code",
   "execution_count": 174,
   "id": "860ab332-a8a2-4ca2-a13b-530815707879",
   "metadata": {},
   "outputs": [
    {
     "data": {
      "text/plain": [
       "0.9729600382866714"
      ]
     },
     "execution_count": 174,
     "metadata": {},
     "output_type": "execute_result"
    }
   ],
   "source": [
    "pred  = predictor.predict(avgs)\n",
    "accuracy_score(df['class'],pred)"
   ]
  },
  {
   "cell_type": "code",
   "execution_count": null,
   "id": "948109e7-429f-451a-91c7-b4f306dd34a2",
   "metadata": {},
   "outputs": [],
   "source": []
  }
 ],
 "metadata": {
  "kernelspec": {
   "display_name": "Python 3 (ipykernel)",
   "language": "python",
   "name": "python3"
  },
  "language_info": {
   "codemirror_mode": {
    "name": "ipython",
    "version": 3
   },
   "file_extension": ".py",
   "mimetype": "text/x-python",
   "name": "python",
   "nbconvert_exporter": "python",
   "pygments_lexer": "ipython3",
   "version": "3.10.0"
  }
 },
 "nbformat": 4,
 "nbformat_minor": 5
}
